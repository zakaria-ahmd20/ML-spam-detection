{
 "cells": [
  {
   "cell_type": "code",
   "execution_count": 1,
   "metadata": {},
   "outputs": [],
   "source": [
    "import pandas as pd\n",
    "import numpy as np\n",
    "import nltk\n",
    "from nltk.corpus import stopwords\n",
    "import string\n",
    "from sklearn.feature_extraction.text import CountVectorizer\n"
   ]
  },
  {
   "cell_type": "code",
   "execution_count": 2,
   "metadata": {},
   "outputs": [],
   "source": [
    "oldf=pd.read_csv(\"C:\\\\Users\\\\zkyx1\\\\Desktop\\\\school\\\\SRT521\\\\project\\\\messages.csv\")\n"
   ]
  },
  {
   "cell_type": "code",
   "execution_count": 3,
   "metadata": {},
   "outputs": [],
   "source": [
    "oldf['message'] = oldf['message'].str.lower()\n",
    "# we require our messages to be in lowercase format"
   ]
  },
  {
   "cell_type": "code",
   "execution_count": 4,
   "metadata": {},
   "outputs": [
    {
     "data": {
      "text/plain": [
       "8634"
      ]
     },
     "execution_count": 4,
     "metadata": {},
     "output_type": "execute_result"
    }
   ],
   "source": [
    "oldf.drop_duplicates(inplace=True)\n",
    "oldf.size\n",
    "# ok verify message before dropping"
   ]
  },
  {
   "cell_type": "code",
   "execution_count": 5,
   "metadata": {},
   "outputs": [
    {
     "data": {
      "text/plain": [
       "<bound method DataFrame.sum of       subject  message  label\n",
       "0       False    False  False\n",
       "1        True    False  False\n",
       "2       False    False  False\n",
       "3       False    False  False\n",
       "4       False    False  False\n",
       "...       ...      ...    ...\n",
       "2890    False    False  False\n",
       "2891    False    False  False\n",
       "2892    False    False  False\n",
       "2893    False    False  False\n",
       "2894    False    False  False\n",
       "\n",
       "[2878 rows x 3 columns]>"
      ]
     },
     "execution_count": 5,
     "metadata": {},
     "output_type": "execute_result"
    }
   ],
   "source": [
    "oldf.isnull().sum # ok verify message before dropping"
   ]
  },
  {
   "cell_type": "code",
   "execution_count": 6,
   "metadata": {},
   "outputs": [
    {
     "data": {
      "text/plain": [
       "8448"
      ]
     },
     "execution_count": 6,
     "metadata": {},
     "output_type": "execute_result"
    }
   ],
   "source": [
    "df = oldf.dropna()\n",
    "df.size"
   ]
  },
  {
   "cell_type": "code",
   "execution_count": 7,
   "metadata": {},
   "outputs": [
    {
     "name": "stderr",
     "output_type": "stream",
     "text": [
      "C:\\Users\\zkyx1\\AppData\\Local\\Temp\\ipykernel_31408\\1576429111.py:1: SettingWithCopyWarning: \n",
      "A value is trying to be set on a copy of a slice from a DataFrame.\n",
      "Try using .loc[row_indexer,col_indexer] = value instead\n",
      "\n",
      "See the caveats in the documentation: https://pandas.pydata.org/pandas-docs/stable/user_guide/indexing.html#returning-a-view-versus-a-copy\n",
      "  df['message'] = df['message'].str.lower()\n"
     ]
    }
   ],
   "source": [
    "df['message'] = df['message'].str.lower()\n"
   ]
  },
  {
   "cell_type": "code",
   "execution_count": 8,
   "metadata": {},
   "outputs": [
    {
     "name": "stderr",
     "output_type": "stream",
     "text": [
      "C:\\Users\\zkyx1\\AppData\\Local\\Temp\\ipykernel_31408\\1593975471.py:1: SettingWithCopyWarning: \n",
      "A value is trying to be set on a copy of a slice from a DataFrame.\n",
      "Try using .loc[row_indexer,col_indexer] = value instead\n",
      "\n",
      "See the caveats in the documentation: https://pandas.pydata.org/pandas-docs/stable/user_guide/indexing.html#returning-a-view-versus-a-copy\n",
      "  df['sub_mssg']=df['subject']+df['message']\n"
     ]
    },
    {
     "data": {
      "text/html": [
       "<div>\n",
       "<style scoped>\n",
       "    .dataframe tbody tr th:only-of-type {\n",
       "        vertical-align: middle;\n",
       "    }\n",
       "\n",
       "    .dataframe tbody tr th {\n",
       "        vertical-align: top;\n",
       "    }\n",
       "\n",
       "    .dataframe thead th {\n",
       "        text-align: right;\n",
       "    }\n",
       "</style>\n",
       "<table border=\"1\" class=\"dataframe\">\n",
       "  <thead>\n",
       "    <tr style=\"text-align: right;\">\n",
       "      <th></th>\n",
       "      <th>subject</th>\n",
       "      <th>message</th>\n",
       "      <th>label</th>\n",
       "      <th>sub_mssg</th>\n",
       "    </tr>\n",
       "  </thead>\n",
       "  <tbody>\n",
       "    <tr>\n",
       "      <th>0</th>\n",
       "      <td>job posting - apple-iss research center</td>\n",
       "      <td>content - length : 3386 apple-iss research cen...</td>\n",
       "      <td>0</td>\n",
       "      <td>job posting - apple-iss research centercontent...</td>\n",
       "    </tr>\n",
       "    <tr>\n",
       "      <th>2</th>\n",
       "      <td>query : letter frequencies for text identifica...</td>\n",
       "      <td>i am posting this inquiry for sergei atamas ( ...</td>\n",
       "      <td>0</td>\n",
       "      <td>query : letter frequencies for text identifica...</td>\n",
       "    </tr>\n",
       "    <tr>\n",
       "      <th>3</th>\n",
       "      <td>risk</td>\n",
       "      <td>a colleague and i are researching the differin...</td>\n",
       "      <td>0</td>\n",
       "      <td>riska colleague and i are researching the diff...</td>\n",
       "    </tr>\n",
       "    <tr>\n",
       "      <th>4</th>\n",
       "      <td>request book information</td>\n",
       "      <td>earlier this morning i was on the phone with a...</td>\n",
       "      <td>0</td>\n",
       "      <td>request book informationearlier this morning i...</td>\n",
       "    </tr>\n",
       "    <tr>\n",
       "      <th>5</th>\n",
       "      <td>call for abstracts : optimality in syntactic t...</td>\n",
       "      <td>content - length : 4437 call for papers is the...</td>\n",
       "      <td>0</td>\n",
       "      <td>call for abstracts : optimality in syntactic t...</td>\n",
       "    </tr>\n",
       "  </tbody>\n",
       "</table>\n",
       "</div>"
      ],
      "text/plain": [
       "                                             subject  \\\n",
       "0            job posting - apple-iss research center   \n",
       "2  query : letter frequencies for text identifica...   \n",
       "3                                               risk   \n",
       "4                           request book information   \n",
       "5  call for abstracts : optimality in syntactic t...   \n",
       "\n",
       "                                             message  label  \\\n",
       "0  content - length : 3386 apple-iss research cen...      0   \n",
       "2  i am posting this inquiry for sergei atamas ( ...      0   \n",
       "3  a colleague and i are researching the differin...      0   \n",
       "4  earlier this morning i was on the phone with a...      0   \n",
       "5  content - length : 4437 call for papers is the...      0   \n",
       "\n",
       "                                            sub_mssg  \n",
       "0  job posting - apple-iss research centercontent...  \n",
       "2  query : letter frequencies for text identifica...  \n",
       "3  riska colleague and i are researching the diff...  \n",
       "4  request book informationearlier this morning i...  \n",
       "5  call for abstracts : optimality in syntactic t...  "
      ]
     },
     "execution_count": 8,
     "metadata": {},
     "output_type": "execute_result"
    }
   ],
   "source": [
    "df['sub_mssg']=df['subject']+df['message']\n",
    "df.head()\n"
   ]
  },
  {
   "cell_type": "code",
   "execution_count": 9,
   "metadata": {},
   "outputs": [
    {
     "name": "stderr",
     "output_type": "stream",
     "text": [
      "C:\\Users\\zkyx1\\AppData\\Local\\Temp\\ipykernel_31408\\2253531254.py:1: SettingWithCopyWarning: \n",
      "A value is trying to be set on a copy of a slice from a DataFrame.\n",
      "Try using .loc[row_indexer,col_indexer] = value instead\n",
      "\n",
      "See the caveats in the documentation: https://pandas.pydata.org/pandas-docs/stable/user_guide/indexing.html#returning-a-view-versus-a-copy\n",
      "  df['len']=df['sub_mssg'].apply(len)\n"
     ]
    }
   ],
   "source": [
    "df['len']=df['sub_mssg'].apply(len)\n"
   ]
  },
  {
   "cell_type": "code",
   "execution_count": 10,
   "metadata": {},
   "outputs": [
    {
     "name": "stderr",
     "output_type": "stream",
     "text": [
      "C:\\Users\\zkyx1\\AppData\\Local\\Temp\\ipykernel_31408\\1706636209.py:1: SettingWithCopyWarning: \n",
      "A value is trying to be set on a copy of a slice from a DataFrame\n",
      "\n",
      "See the caveats in the documentation: https://pandas.pydata.org/pandas-docs/stable/user_guide/indexing.html#returning-a-view-versus-a-copy\n",
      "  df.drop('subject',axis=1,inplace=True)\n"
     ]
    }
   ],
   "source": [
    "df.drop('subject',axis=1,inplace=True)\n"
   ]
  },
  {
   "cell_type": "code",
   "execution_count": 11,
   "metadata": {},
   "outputs": [],
   "source": [
    "import re\n",
    "\n",
    "def decontract(phrase):\n",
    "    contractions = {\n",
    "        \"won't\": \"will not\",\n",
    "        \"can't\": \"can not\",\n",
    "        \"n't\": \" not\",\n",
    "        \"'re\": \" are\",\n",
    "        \"'s\": \" is\",\n",
    "        \"'d\": \" would\",\n",
    "        \"'ll\": \" will\",\n",
    "        \"'t\": \" not\",\n",
    "        \"'ve\": \" have\",\n",
    "        \"'m\": \" am\"\n",
    "    }\n",
    "\n",
    "    # Replace contractions with their expanded forms\n",
    "    for contraction, expansion in contractions.items():\n",
    "        phrase = re.sub(contraction, expansion, phrase)\n",
    "\n",
    "    return phrase"
   ]
  },
  {
   "cell_type": "code",
   "execution_count": 12,
   "metadata": {},
   "outputs": [
    {
     "data": {
      "text/plain": [
       "'hi , i am new to the list . and since english is not my first language , i apologize for the mistakes you might find below : - ) . i hope that you will not mind if some of my explanations are in french . for my ph . d . semiotics , i am writing a dissertation on discourse and science-fiction and i need some information about the construction of neologisms in french and in english . ( neologisms are useful in sf , specially in the scientific field ! ) in french , neologisms are made in 5 different ways ( i hope these are the right english words ) : derivation ; composition ; imitation ; pure invention ; amalgam . one might also add borrowings from other languages . here are some examples ( sorry , the explanations are in french ) : - derivation : mot derive : \" position \" peut produire le verbe \" positionner \" ; - composition : mot compose : si \" monotone \" est decompose ( \" mono \" / \" tone \" ) , on peut recomposer \" polytone \" ; a partir de \" telephone \" on peut produire en science-fiction \" videophone \" . - imitation : souvent a partir d \\' une onomatopee : a partir de l \\' onomatopee \" couac \" on peut parler d \\' un \" couac \" ( = un nom ) ; - invention : mot forge : se distingue des autres categories car on ne reconnait dans la morphologie du mot aucun terme existant ( ex . : \" emparouille \" , \" endosque \" , \" pratele \" , \" libucque \" , \" ecorbalise \" - extraits d \\' henri michaux ) . cette categorie est contestee car certains pretendent qu \\' il est toujours possible de retrouver la racine . - amalgam : mot - valise : reunion de deux mots sur la base d \\' une homonymie partielle ; ainsi \" famille \" et \" millionnaire \" peuvent donner \" famillionnaire \" . in the every day french language , the 3 first ( mostly the 2 first ) processes are more frequent and the 2 others are used in the literary ( and humoristic ) discourse . my question ( s ) is ( are ) about the construction of neologisms in english . 1 ) does english use the same processes ? 2 ) even if it does , are the processes of the same importance in both languages ? 3 ) what would be the most frequent ones ? 4 ) what are the major differences ? 5 ) etc . thank you in advance , sylvie berard - - - - - - - - - - - - - - - - - - - - - - - - - - - - - - - - - - - - - - - - - - - - - - - - - - - - - - - - - - - - - - - - - - - - - - - - - - - - - sylvie berard \" but the fact is , i really , really hate d346215 @ er . uqam . ca housework , even when universite du quebec a montreal someone else is doing it . \" - - - - - - - - - - - - - - - - - - - - - - - - - - - - - - - - - - - - - - - - - - - - - - - - - - - - - - - - - - - - - - - - - - - - - - - -\\n'"
      ]
     },
     "execution_count": 12,
     "metadata": {},
     "output_type": "execute_result"
    }
   ],
   "source": [
    "test_msg = decontract(df['message'][70])\n",
    "test_msg"
   ]
  },
  {
   "cell_type": "code",
   "execution_count": 13,
   "metadata": {},
   "outputs": [
    {
     "name": "stderr",
     "output_type": "stream",
     "text": [
      "[nltk_data] Downloading package punkt to\n",
      "[nltk_data]     C:\\Users\\zkyx1\\AppData\\Roaming\\nltk_data...\n",
      "[nltk_data]   Package punkt is already up-to-date!\n",
      "[nltk_data] Downloading package stopwords to\n",
      "[nltk_data]     C:\\Users\\zkyx1\\AppData\\Roaming\\nltk_data...\n",
      "[nltk_data]   Package stopwords is already up-to-date!\n",
      "C:\\Users\\zkyx1\\AppData\\Local\\Temp\\ipykernel_31408\\2867170377.py:7: SettingWithCopyWarning: \n",
      "A value is trying to be set on a copy of a slice from a DataFrame.\n",
      "Try using .loc[row_indexer,col_indexer] = value instead\n",
      "\n",
      "See the caveats in the documentation: https://pandas.pydata.org/pandas-docs/stable/user_guide/indexing.html#returning-a-view-versus-a-copy\n",
      "  df['sub_mssg'] = df['sub_mssg'].apply(lambda x: ' '.join([word for word in x.split() if word not in stopwords]))\n",
      "C:\\Users\\zkyx1\\AppData\\Local\\Temp\\ipykernel_31408\\2867170377.py:11: SettingWithCopyWarning: \n",
      "A value is trying to be set on a copy of a slice from a DataFrame.\n",
      "Try using .loc[row_indexer,col_indexer] = value instead\n",
      "\n",
      "See the caveats in the documentation: https://pandas.pydata.org/pandas-docs/stable/user_guide/indexing.html#returning-a-view-versus-a-copy\n",
      "  df['sub_mssg'] = df['sub_mssg'].apply(lambda x: ' '.join([lemmatizer.lemmatize(word) for word in x.split()]))\n",
      "C:\\Users\\zkyx1\\AppData\\Local\\Temp\\ipykernel_31408\\2867170377.py:14: SettingWithCopyWarning: \n",
      "A value is trying to be set on a copy of a slice from a DataFrame.\n",
      "Try using .loc[row_indexer,col_indexer] = value instead\n",
      "\n",
      "See the caveats in the documentation: https://pandas.pydata.org/pandas-docs/stable/user_guide/indexing.html#returning-a-view-versus-a-copy\n",
      "  df['sub_mssg'] = df['sub_mssg'].apply(lambda x: ''.join([char if ord(char) < 128 else ' ' for char in x]))\n",
      "C:\\Users\\zkyx1\\AppData\\Local\\Temp\\ipykernel_31408\\2867170377.py:17: SettingWithCopyWarning: \n",
      "A value is trying to be set on a copy of a slice from a DataFrame.\n",
      "Try using .loc[row_indexer,col_indexer] = value instead\n",
      "\n",
      "See the caveats in the documentation: https://pandas.pydata.org/pandas-docs/stable/user_guide/indexing.html#returning-a-view-versus-a-copy\n",
      "  df['sub_mssg'] = df['sub_mssg'].str.replace(r'(\\w)\\1+', r'\\1')\n",
      "C:\\Users\\zkyx1\\AppData\\Local\\Temp\\ipykernel_31408\\2867170377.py:20: SettingWithCopyWarning: \n",
      "A value is trying to be set on a copy of a slice from a DataFrame.\n",
      "Try using .loc[row_indexer,col_indexer] = value instead\n",
      "\n",
      "See the caveats in the documentation: https://pandas.pydata.org/pandas-docs/stable/user_guide/indexing.html#returning-a-view-versus-a-copy\n",
      "  df['sub_mssg'] = df['sub_mssg'].str.replace(r'(.)\\1+', r'\\1')\n",
      "C:\\Users\\zkyx1\\AppData\\Local\\Temp\\ipykernel_31408\\2867170377.py:23: SettingWithCopyWarning: \n",
      "A value is trying to be set on a copy of a slice from a DataFrame.\n",
      "Try using .loc[row_indexer,col_indexer] = value instead\n",
      "\n",
      "See the caveats in the documentation: https://pandas.pydata.org/pandas-docs/stable/user_guide/indexing.html#returning-a-view-versus-a-copy\n",
      "  df['sub_mssg'] = df['sub_mssg'].apply(lambda x: ' '.join(word_tokenize(x)))\n",
      "C:\\Users\\zkyx1\\AppData\\Local\\Temp\\ipykernel_31408\\2867170377.py:26: SettingWithCopyWarning: \n",
      "A value is trying to be set on a copy of a slice from a DataFrame.\n",
      "Try using .loc[row_indexer,col_indexer] = value instead\n",
      "\n",
      "See the caveats in the documentation: https://pandas.pydata.org/pandas-docs/stable/user_guide/indexing.html#returning-a-view-versus-a-copy\n",
      "  df['sub_mssg'] = df['sub_mssg'].apply(lambda x: ' '.join([word for word in x.split() if len(word) > 2]))\n",
      "C:\\Users\\zkyx1\\AppData\\Local\\Temp\\ipykernel_31408\\2867170377.py:28: SettingWithCopyWarning: \n",
      "A value is trying to be set on a copy of a slice from a DataFrame.\n",
      "Try using .loc[row_indexer,col_indexer] = value instead\n",
      "\n",
      "See the caveats in the documentation: https://pandas.pydata.org/pandas-docs/stable/user_guide/indexing.html#returning-a-view-versus-a-copy\n",
      "  df['sub_mssg'] = df['sub_mssg'].str.replace(r'-', ' ')\n"
     ]
    }
   ],
   "source": [
    "import nltk\n",
    "nltk.download('punkt')\n",
    "nltk.download('stopwords')\n",
    "\n",
    "# Remove stopwords\n",
    "stopwords = set(['the', 'and', 'is', 'in', 'it', 'to', 'of', 'for', 'this', 'that'])\n",
    "df['sub_mssg'] = df['sub_mssg'].apply(lambda x: ' '.join([word for word in x.split() if word not in stopwords]))\n",
    "\n",
    "from nltk.stem import WordNetLemmatizer\n",
    "lemmatizer = WordNetLemmatizer()\n",
    "df['sub_mssg'] = df['sub_mssg'].apply(lambda x: ' '.join([lemmatizer.lemmatize(word) for word in x.split()]))\n",
    "\n",
    "# Remove non-ASCII characters\n",
    "df['sub_mssg'] = df['sub_mssg'].apply(lambda x: ''.join([char if ord(char) < 128 else ' ' for char in x]))\n",
    "\n",
    "# Remove consecutive duplicates\n",
    "df['sub_mssg'] = df['sub_mssg'].str.replace(r'(\\w)\\1+', r'\\1')\n",
    "\n",
    "# Replace repeated characters (e.g., loooove -> love)\n",
    "df['sub_mssg'] = df['sub_mssg'].str.replace(r'(.)\\1+', r'\\1')\n",
    "\n",
    "from nltk.tokenize import word_tokenize\n",
    "df['sub_mssg'] = df['sub_mssg'].apply(lambda x: ' '.join(word_tokenize(x)))\n",
    "\n",
    "# Remove short words (length less than 3)\n",
    "df['sub_mssg'] = df['sub_mssg'].apply(lambda x: ' '.join([word for word in x.split() if len(word) > 2]))\n",
    "# Remove hyphens from the 'sub_mssg' column\n",
    "df['sub_mssg'] = df['sub_mssg'].str.replace(r'-', ' ')\n"
   ]
  },
  {
   "cell_type": "code",
   "execution_count": 14,
   "metadata": {},
   "outputs": [
    {
     "name": "stderr",
     "output_type": "stream",
     "text": [
      "C:\\Users\\zkyx1\\AppData\\Local\\Temp\\ipykernel_31408\\3980139324.py:1: SettingWithCopyWarning: \n",
      "A value is trying to be set on a copy of a slice from a DataFrame\n",
      "\n",
      "See the caveats in the documentation: https://pandas.pydata.org/pandas-docs/stable/user_guide/indexing.html#returning-a-view-versus-a-copy\n",
      "  df.drop('message',axis=1,inplace=True)\n"
     ]
    },
    {
     "data": {
      "text/plain": [
       "label       0\n",
       "sub_mssg    0\n",
       "len         0\n",
       "dtype: int64"
      ]
     },
     "execution_count": 14,
     "metadata": {},
     "output_type": "execute_result"
    }
   ],
   "source": [
    "df.drop('message',axis=1,inplace=True)\n",
    "df.isnull().sum()\n"
   ]
  },
  {
   "cell_type": "code",
   "execution_count": 15,
   "metadata": {},
   "outputs": [
    {
     "data": {
      "text/html": [
       "<div>\n",
       "<style scoped>\n",
       "    .dataframe tbody tr th:only-of-type {\n",
       "        vertical-align: middle;\n",
       "    }\n",
       "\n",
       "    .dataframe tbody tr th {\n",
       "        vertical-align: top;\n",
       "    }\n",
       "\n",
       "    .dataframe thead th {\n",
       "        text-align: right;\n",
       "    }\n",
       "</style>\n",
       "<table border=\"1\" class=\"dataframe\">\n",
       "  <thead>\n",
       "    <tr style=\"text-align: right;\">\n",
       "      <th></th>\n",
       "      <th>label</th>\n",
       "      <th>sub_mssg</th>\n",
       "      <th>len</th>\n",
       "    </tr>\n",
       "  </thead>\n",
       "  <tbody>\n",
       "    <tr>\n",
       "      <th>0</th>\n",
       "      <td>0</td>\n",
       "      <td>job posting apple iss research centercontent l...</td>\n",
       "      <td>2895</td>\n",
       "    </tr>\n",
       "    <tr>\n",
       "      <th>2</th>\n",
       "      <td>0</td>\n",
       "      <td>query letter frequency text identificationi po...</td>\n",
       "      <td>1485</td>\n",
       "    </tr>\n",
       "    <tr>\n",
       "      <th>3</th>\n",
       "      <td>0</td>\n",
       "      <td>riska colleague are researching differing degr...</td>\n",
       "      <td>328</td>\n",
       "    </tr>\n",
       "    <tr>\n",
       "      <th>4</th>\n",
       "      <td>0</td>\n",
       "      <td>request book informationearlier morning phone ...</td>\n",
       "      <td>1070</td>\n",
       "    </tr>\n",
       "    <tr>\n",
       "      <th>5</th>\n",
       "      <td>0</td>\n",
       "      <td>call abstract optimality syntactic theoryconte...</td>\n",
       "      <td>4543</td>\n",
       "    </tr>\n",
       "  </tbody>\n",
       "</table>\n",
       "</div>"
      ],
      "text/plain": [
       "   label                                           sub_mssg   len\n",
       "0      0  job posting apple iss research centercontent l...  2895\n",
       "2      0  query letter frequency text identificationi po...  1485\n",
       "3      0  riska colleague are researching differing degr...   328\n",
       "4      0  request book informationearlier morning phone ...  1070\n",
       "5      0  call abstract optimality syntactic theoryconte...  4543"
      ]
     },
     "execution_count": 15,
     "metadata": {},
     "output_type": "execute_result"
    }
   ],
   "source": [
    "df.head()"
   ]
  },
  {
   "cell_type": "code",
   "execution_count": 16,
   "metadata": {},
   "outputs": [
    {
     "name": "stderr",
     "output_type": "stream",
     "text": [
      "C:\\Users\\zkyx1\\AppData\\Local\\Temp\\ipykernel_31408\\844218124.py:1: SettingWithCopyWarning: \n",
      "A value is trying to be set on a copy of a slice from a DataFrame.\n",
      "Try using .loc[row_indexer,col_indexer] = value instead\n",
      "\n",
      "See the caveats in the documentation: https://pandas.pydata.org/pandas-docs/stable/user_guide/indexing.html#returning-a-view-versus-a-copy\n",
      "  df['len_email']=df['sub_mssg'].apply(len)\n"
     ]
    }
   ],
   "source": [
    "df['len_email']=df['sub_mssg'].apply(len)\n"
   ]
  },
  {
   "cell_type": "code",
   "execution_count": 17,
   "metadata": {},
   "outputs": [
    {
     "data": {
      "text/html": [
       "<div>\n",
       "<style scoped>\n",
       "    .dataframe tbody tr th:only-of-type {\n",
       "        vertical-align: middle;\n",
       "    }\n",
       "\n",
       "    .dataframe tbody tr th {\n",
       "        vertical-align: top;\n",
       "    }\n",
       "\n",
       "    .dataframe thead th {\n",
       "        text-align: right;\n",
       "    }\n",
       "</style>\n",
       "<table border=\"1\" class=\"dataframe\">\n",
       "  <thead>\n",
       "    <tr style=\"text-align: right;\">\n",
       "      <th></th>\n",
       "      <th>label</th>\n",
       "      <th>sub_mssg</th>\n",
       "      <th>len</th>\n",
       "      <th>len_email</th>\n",
       "    </tr>\n",
       "  </thead>\n",
       "  <tbody>\n",
       "    <tr>\n",
       "      <th>0</th>\n",
       "      <td>0</td>\n",
       "      <td>job posting apple iss research centercontent l...</td>\n",
       "      <td>2895</td>\n",
       "      <td>2086</td>\n",
       "    </tr>\n",
       "    <tr>\n",
       "      <th>2</th>\n",
       "      <td>0</td>\n",
       "      <td>query letter frequency text identificationi po...</td>\n",
       "      <td>1485</td>\n",
       "      <td>1143</td>\n",
       "    </tr>\n",
       "    <tr>\n",
       "      <th>3</th>\n",
       "      <td>0</td>\n",
       "      <td>riska colleague are researching differing degr...</td>\n",
       "      <td>328</td>\n",
       "      <td>263</td>\n",
       "    </tr>\n",
       "    <tr>\n",
       "      <th>4</th>\n",
       "      <td>0</td>\n",
       "      <td>request book informationearlier morning phone ...</td>\n",
       "      <td>1070</td>\n",
       "      <td>713</td>\n",
       "    </tr>\n",
       "    <tr>\n",
       "      <th>5</th>\n",
       "      <td>0</td>\n",
       "      <td>call abstract optimality syntactic theoryconte...</td>\n",
       "      <td>4543</td>\n",
       "      <td>3435</td>\n",
       "    </tr>\n",
       "  </tbody>\n",
       "</table>\n",
       "</div>"
      ],
      "text/plain": [
       "   label                                           sub_mssg   len  len_email\n",
       "0      0  job posting apple iss research centercontent l...  2895       2086\n",
       "2      0  query letter frequency text identificationi po...  1485       1143\n",
       "3      0  riska colleague are researching differing degr...   328        263\n",
       "4      0  request book informationearlier morning phone ...  1070        713\n",
       "5      0  call abstract optimality syntactic theoryconte...  4543       3435"
      ]
     },
     "execution_count": 17,
     "metadata": {},
     "output_type": "execute_result"
    }
   ],
   "source": [
    "df.head()"
   ]
  },
  {
   "cell_type": "code",
   "execution_count": 24,
   "metadata": {},
   "outputs": [
    {
     "name": "stdout",
     "output_type": "stream",
     "text": [
      "Best Hyperparameters: {'classifier__alpha': 2.0}\n",
      "Confusion Matrix:\n",
      " [[2354    5]\n",
      " [   5  452]]\n",
      "Accuracy: 0.9964488636363636\n",
      "Precision: 0.9964488636363636\n",
      "Recall: 0.9964488636363636\n"
     ]
    }
   ],
   "source": [
    "import pandas as pd\n",
    "from sklearn.pipeline import Pipeline\n",
    "from sklearn.feature_extraction.text import CountVectorizer\n",
    "from sklearn.naive_bayes import MultinomialNB\n",
    "from sklearn.model_selection import StratifiedKFold, cross_val_predict, GridSearchCV\n",
    "from sklearn.metrics import confusion_matrix, accuracy_score, precision_score, recall_score\n",
    "\n",
    "\n",
    "X = df.sub_mssg\n",
    "Y = df.label\n",
    "\n",
    "\n",
    "num_folds = 5  \n",
    "stratified_kfold = StratifiedKFold(n_splits=num_folds, shuffle=True, random_state=0)\n",
    "\n",
    "\n",
    "count_vectorizer = CountVectorizer()\n",
    "nb_classifier = MultinomialNB()\n",
    "\n",
    "# Create a pipeline\n",
    "model_nb = Pipeline([('vectorizer', count_vectorizer), ('classifier', nb_classifier)])\n",
    "\n",
    "param_grid = {'classifier__alpha': [0.1, 0.5, 1.0, 1.5, 2.0]}\n",
    "grid_search = GridSearchCV(model_nb, param_grid, cv=stratified_kfold, scoring='accuracy')\n",
    "grid_search.fit(X, Y)\n",
    "\n",
    "\n",
    "best_model = grid_search.best_estimator_\n",
    "\n",
    "# Display the best hyperparameters\n",
    "print(\"Best Hyperparameters:\", grid_search.best_params_)\n",
    "\n",
    "# Use cross_val_predict to get predictions for each fold during cross-validation\n",
    "y_pred_best_cv = cross_val_predict(best_model, X, Y, cv=stratified_kfold)\n",
    "\n",
    "# Evaluate performance metrics over the entire dataset\n",
    "print(\"Confusion Matrix:\\n\", confusion_matrix(Y, y_pred_best_cv))\n",
    "print(\"Accuracy:\", accuracy_score(Y, y_pred_best_cv))\n",
    "print(\"Precision:\", precision_score(Y, y_pred_best_cv, average='weighted'))\n",
    "print(\"Recall:\", recall_score(Y, y_pred_best_cv, average='weighted'))\n",
    "\n"
   ]
  },
  {
   "cell_type": "code",
   "execution_count": null,
   "metadata": {},
   "outputs": [],
   "source": []
  },
  {
   "cell_type": "code",
   "execution_count": 44,
   "metadata": {},
   "outputs": [],
   "source": [
    "import pandas as pd\n",
    "from sklearn.pipeline import Pipeline\n",
    "from sklearn.feature_extraction.text import CountVectorizer\n",
    "from sklearn.naive_bayes import MultinomialNB\n",
    "import pickle\n",
    "\n",
    "\n",
    "# TF= frequency of word in sentence\n",
    "X = df.sub_mssg\n",
    "Y = df.label\n",
    "\n",
    "# Define your model with CountVectorizer for Bag of Words and the best alpha\n",
    "count_vectorizer = CountVectorizer()\n",
    "nb_classifier = MultinomialNB(alpha=2.0)\n",
    "model_nb = Pipeline([('vectorizer', count_vectorizer), ('classifier', nb_classifier)])\n",
    "\n",
    "# Fit the model on the entire dataset\n",
    "model_nb.fit(X, Y)\n",
    "\n",
    "pickle_filename = 'spamdetection_model.pkl'\n",
    "with open(pickle_filename, 'wb') as model_file:\n",
    "    pickle.dump(model_nb, model_file)\n"
   ]
  },
  {
   "cell_type": "code",
   "execution_count": 56,
   "metadata": {},
   "outputs": [
    {
     "name": "stdout",
     "output_type": "stream",
     "text": [
      "spam\n"
     ]
    }
   ],
   "source": [
    "pickle_filename = 'spamdetection_model.pkl'\n",
    "\n",
    "with open(pickle_filename, 'rb') as model_file:\n",
    "    loaded_model = pickle.load(model_file)\n",
    "user_subject = input(\"Enter the subject: \")\n",
    "user_message = input(\"Enter the message: \")\n",
    "\n",
    "user_data = [user_subject + \": \" + user_message]\n",
    "predictions = loaded_model.predict(user_data)\n",
    "\n",
    "if predictions == 0:\n",
    "    print('not spam')\n",
    "elif predictions == 1:\n",
    "    print('spam')"
   ]
  }
 ],
 "metadata": {
  "kernelspec": {
   "display_name": "Python 3",
   "language": "python",
   "name": "python3"
  },
  "language_info": {
   "codemirror_mode": {
    "name": "ipython",
    "version": 3
   },
   "file_extension": ".py",
   "mimetype": "text/x-python",
   "name": "python",
   "nbconvert_exporter": "python",
   "pygments_lexer": "ipython3",
   "version": "3.11.1"
  }
 },
 "nbformat": 4,
 "nbformat_minor": 4
}
